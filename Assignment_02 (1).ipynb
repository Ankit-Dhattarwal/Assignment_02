{
 "cells": [
  {
   "cell_type": "markdown",
   "id": "279f7740-fe21-402b-b7a2-60c1eeba7709",
   "metadata": {},
   "source": [
    "##### Q1.> Which keyword is used to create a function? Create a function to return a list of odd numbers in the range of 1 to 25."
   ]
  },
  {
   "cell_type": "markdown",
   "id": "204a7281-50fb-4606-9cef-d0a756f0ea6c",
   "metadata": {},
   "source": [
    "#### ANSWER "
   ]
  },
  {
   "cell_type": "markdown",
   "id": "87b0f72b-ecc2-4c70-ba9f-ab457a1ac725",
   "metadata": {},
   "source": [
    "##### Def keyword is used to create the function"
   ]
  },
  {
   "cell_type": "code",
   "execution_count": 3,
   "id": "24e69fd5-463f-4970-828c-bdb8361605ec",
   "metadata": {},
   "outputs": [
    {
     "name": "stdout",
     "output_type": "stream",
     "text": [
      "1\n",
      "3\n",
      "5\n",
      "7\n",
      "9\n",
      "11\n",
      "13\n",
      "15\n",
      "17\n",
      "19\n",
      "21\n",
      "23\n",
      "25\n"
     ]
    }
   ],
   "source": [
    "def test():\n",
    "    for i in range(0,26):\n",
    "        if i%2 != 0:\n",
    "            print(i)\n",
    "test()"
   ]
  },
  {
   "cell_type": "markdown",
   "id": "c1835e77-0096-47e3-bfeb-84d8881815eb",
   "metadata": {},
   "source": [
    "##### Q.2.> Why *args and **kwargs is used in some functions? Create a function each for *args and **kwargs to demonstrate their use."
   ]
  },
  {
   "cell_type": "markdown",
   "id": "d745a3d3-60eb-4442-a1ec-85f96e1627e7",
   "metadata": {},
   "source": [
    "#### ANSWER "
   ]
  },
  {
   "cell_type": "markdown",
   "id": "c36b170b-9729-4521-9ca4-55f2e5ded6dc",
   "metadata": {},
   "source": [
    "#### *args allows us to pass a variable number of non-keyword arguments to a Python function. Non- keyword means that they can be number and string "
   ]
  },
  {
   "cell_type": "markdown",
   "id": "1ae04f5c-1ad1-4510-8592-af0d36298f51",
   "metadata": {},
   "source": [
    "#### -->firstly tell about the mean of the star( * ) is that n number of the argument can pass inside the function and passed data is stored as tuple.\n",
    "#### --> args is not a keyword.  \n",
    "#### --> args is just a convension."
   ]
  },
  {
   "cell_type": "code",
   "execution_count": 9,
   "id": "6cef9d60-7dfb-4309-9aa8-9b21ec0fe5f8",
   "metadata": {},
   "outputs": [
    {
     "name": "stdout",
     "output_type": "stream",
     "text": [
      "8\n",
      "11\n"
     ]
    }
   ],
   "source": [
    "def add(*num):\n",
    "    sum = 0\n",
    "    for i in num:\n",
    "        sum = sum + i\n",
    "    print(sum)\n",
    "    \n",
    "add(3,5)\n",
    "add(4,5,2)\n",
    "    "
   ]
  },
  {
   "cell_type": "markdown",
   "id": "a6b071f7-dfec-4883-8045-b6f93b254175",
   "metadata": {},
   "source": [
    "#### **kwargs allows us to pass a variable number of keyword arguments to a Python function."
   ]
  },
  {
   "cell_type": "markdown",
   "id": "2de70b15-0ab7-4442-b51e-34bcc4c6504a",
   "metadata": {},
   "source": [
    "##### --> Keyword arguments mean that they contain a key-value pair, like a Python dictionary.  "
   ]
  },
  {
   "cell_type": "code",
   "execution_count": 17,
   "id": "cce438bd-bab1-4266-a6a6-a839a5e8c8d2",
   "metadata": {},
   "outputs": [
    {
     "data": {
      "text/plain": [
       "'Ankit Dhattarwal pwskills student'"
      ]
     },
     "execution_count": 17,
     "metadata": {},
     "output_type": "execute_result"
    }
   ],
   "source": [
    "def fullName(**name):\n",
    "    word = ''\n",
    "    for i in name.values():\n",
    "        word += i\n",
    "    return word\n",
    "\n",
    "fullName(a = 'Ankit', b = ' Dhattarwal', c = ' pwskills', d = ' student')"
   ]
  },
  {
   "cell_type": "markdown",
   "id": "ff8e57b9-d66d-4869-834c-7dfb60331894",
   "metadata": {},
   "source": [
    "#### Q.3> What is an iterator in python? Name the method used to initialise the iterator object and the method used for iteration. Use these methods to print the first five elements of the given list [2, 4, 6, 8, 10, 12, 14,16, 18, 20]."
   ]
  },
  {
   "cell_type": "markdown",
   "id": "de55b523-a5b7-493e-982b-20aaaa7c8848",
   "metadata": {},
   "source": [
    "#### ANSWER"
   ]
  },
  {
   "cell_type": "markdown",
   "id": "12352c85-2a15-4243-9156-550541d2036a",
   "metadata": {},
   "source": [
    "#### An iterator in Python is an object that allows us to iterate through a sequence, such as a list, tuple, or dictionary, one item at a time. It provides a way to access the elements of a container without needing to know its internal structure.\n",
    "#### To initialize an iterator object in Python, we use the iter() method, which takes a sequence as an argument and returns an iterator object. The next() method is used to retrieve the next item in the sequence.\n"
   ]
  },
  {
   "cell_type": "code",
   "execution_count": 5,
   "id": "9d3c7bea-e303-4745-a4fb-d110eef7f9c6",
   "metadata": {},
   "outputs": [],
   "source": [
    "list = [2, 4, 6, 8, 10, 12, 14,16, 18, 20]"
   ]
  },
  {
   "cell_type": "code",
   "execution_count": 6,
   "id": "1f65e13b-97f1-46a0-81cd-0b60e8270149",
   "metadata": {},
   "outputs": [],
   "source": [
    "my_iterator = iter(list)"
   ]
  },
  {
   "cell_type": "code",
   "execution_count": 7,
   "id": "7b7778aa-78a8-4d6d-b77f-49a919b93d64",
   "metadata": {},
   "outputs": [
    {
     "name": "stdout",
     "output_type": "stream",
     "text": [
      "2\n",
      "4\n",
      "6\n",
      "8\n",
      "10\n"
     ]
    }
   ],
   "source": [
    "print(next(my_iterator))\n",
    "print(next(my_iterator))\n",
    "print(next(my_iterator))\n",
    "print(next(my_iterator))\n",
    "print(next(my_iterator))"
   ]
  },
  {
   "cell_type": "markdown",
   "id": "8e4ac2a1-2d05-4da8-aa57-57bd9993e15e",
   "metadata": {},
   "source": [
    "##### Q.4 What is a generator function in python? Why yield keyword is used? Give an example of a generator function."
   ]
  },
  {
   "cell_type": "markdown",
   "id": "d55c7f10-3e05-4e93-8d63-187b025cb504",
   "metadata": {},
   "source": [
    "#### A generator function in Python is a special type of function that allows you to generate a sequence of values on-the-fly, using the \"yield\" keyword instead of \"return\". When you call a generator function, it returns a generator object that you can iterate over to produce a sequence of values one at a time."
   ]
  },
  {
   "cell_type": "markdown",
   "id": "ab6ec4d0-4d75-4568-8715-1c95589c4f52",
   "metadata": {},
   "source": [
    "#### The \"yield\" keyword is used to specify the value that should be returned from the generator function each time it is called. When the generator is iterated over, the function will execute until it reaches a yield statement, at which point it will return the specified value and pause execution"
   ]
  },
  {
   "cell_type": "code",
   "execution_count": 2,
   "id": "3cfd5fc6-83b3-4502-b670-9b4c111f53df",
   "metadata": {},
   "outputs": [],
   "source": [
    "def even_numbers(n):\n",
    "    i = 0\n",
    "    while i < n:\n",
    "        yield i*2\n",
    "        i += 1"
   ]
  },
  {
   "cell_type": "code",
   "execution_count": 3,
   "id": "6fb67df6-f678-4428-ad11-80e0e00eb824",
   "metadata": {},
   "outputs": [
    {
     "name": "stdout",
     "output_type": "stream",
     "text": [
      "0\n",
      "2\n",
      "4\n",
      "6\n",
      "8\n"
     ]
    }
   ],
   "source": [
    "even_gen = even_numbers(5)\n",
    "for num in even_gen:\n",
    "    print(num)"
   ]
  },
  {
   "cell_type": "markdown",
   "id": "4a861de4-1ef3-4cf0-8fbd-e5d448181174",
   "metadata": {},
   "source": [
    "#### Q.5> Create a generator function for prime numbers less than 1000. Use the next() method to print the first 20 prime numbers."
   ]
  },
  {
   "cell_type": "markdown",
   "id": "7f7f5ac4-8489-4a09-a4db-ffbd93a03495",
   "metadata": {},
   "source": [
    "#### ANSWER"
   ]
  },
  {
   "cell_type": "code",
   "execution_count": 1,
   "id": "800ab83b-1cc0-4011-8316-a19f7ca9d2fa",
   "metadata": {},
   "outputs": [
    {
     "name": "stdout",
     "output_type": "stream",
     "text": [
      "2\n",
      "3\n",
      "5\n",
      "7\n",
      "11\n",
      "13\n",
      "17\n",
      "19\n",
      "23\n",
      "29\n",
      "31\n",
      "37\n",
      "41\n",
      "43\n",
      "47\n",
      "53\n",
      "59\n",
      "61\n",
      "67\n",
      "71\n"
     ]
    }
   ],
   "source": [
    "def gen_primes():\n",
    "    primes = []\n",
    "    num = 2\n",
    "    while num < 1000:\n",
    "        is_prime = True\n",
    "        for prime in primes:\n",
    "            if num % prime == 0:\n",
    "                is_prime = False\n",
    "                break\n",
    "        if is_prime:\n",
    "            primes.append(num)\n",
    "            yield num\n",
    "        num += 1\n",
    "        \n",
    "primes = gen_primes()\n",
    "for i in range(20):\n",
    "    print(next(primes))"
   ]
  },
  {
   "cell_type": "markdown",
   "id": "59a0e869-1f39-4f6e-ab2d-6b131f05f319",
   "metadata": {},
   "source": [
    "##### Q.6> Write a python program to print the first 10 Fibonacci numbers using a while loop."
   ]
  },
  {
   "cell_type": "markdown",
   "id": "24475dea-e742-4cc1-a27e-f0726076bcc0",
   "metadata": {},
   "source": [
    "#### ANSWER"
   ]
  },
  {
   "cell_type": "code",
   "execution_count": 6,
   "id": "0c6178e1-0ab7-4e68-9645-8e584ce6abd1",
   "metadata": {},
   "outputs": [
    {
     "name": "stdout",
     "output_type": "stream",
     "text": [
      "0\n",
      "1\n",
      "1\n",
      "2\n",
      "3\n",
      "5\n",
      "8\n",
      "13\n",
      "21\n",
      "34\n"
     ]
    }
   ],
   "source": [
    "a, b = 0, 1\n",
    "count = 0\n",
    "while count < 10:\n",
    "    print(a)\n",
    "    a, b = b, a + b\n",
    "    count += 1"
   ]
  },
  {
   "cell_type": "markdown",
   "id": "46ca86e0-5c3c-4559-ac86-409739ef251e",
   "metadata": {},
   "source": [
    "##### Q.7> Write a List Comprehension to iterate through the given string: ‘pwskills’. Expected output: ['p', 'w', 's', 'k', 'i', 'l', 'l', 's']"
   ]
  },
  {
   "cell_type": "markdown",
   "id": "9d593332-93c4-4d0f-8b5f-0f4e29550c83",
   "metadata": {},
   "source": [
    "#### ANSWER"
   ]
  },
  {
   "cell_type": "code",
   "execution_count": 7,
   "id": "d06eaa66-1273-4c7b-bac4-f87319c46df7",
   "metadata": {},
   "outputs": [
    {
     "name": "stdout",
     "output_type": "stream",
     "text": [
      "['p', 'w', 's', 'k', 'i', 'l', 'l', 's']\n"
     ]
    }
   ],
   "source": [
    "s = 'pwskills'\n",
    "output = [c for c in s if c in 'pwskills']\n",
    "print(output)"
   ]
  },
  {
   "cell_type": "markdown",
   "id": "4dcca85d-98ae-4784-be7d-65dd308468bf",
   "metadata": {},
   "source": [
    "##### Q.8> Write a python program to check whether a given number is Palindrome or not using a while loop."
   ]
  },
  {
   "cell_type": "markdown",
   "id": "1341a5c6-1b89-4531-8905-150b16347e00",
   "metadata": {},
   "source": [
    "#### ANSWER"
   ]
  },
  {
   "cell_type": "code",
   "execution_count": 9,
   "id": "4658045a-2248-4b18-a382-99e32976ce3c",
   "metadata": {},
   "outputs": [
    {
     "name": "stdin",
     "output_type": "stream",
     "text": [
      "Enter a number:  4123\n"
     ]
    },
    {
     "name": "stdout",
     "output_type": "stream",
     "text": [
      "4123 is not a palindrome number\n"
     ]
    }
   ],
   "source": [
    "num = int(input(\"Enter a number: \"))\n",
    "temp = num\n",
    "reverse = 0\n",
    "\n",
    "while temp != 0:\n",
    "    digit = temp % 10\n",
    "    reverse = reverse * 10 + digit\n",
    "    temp = temp // 10\n",
    "\n",
    "if num == reverse:\n",
    "    print(num, \"is a palindrome number\")\n",
    "else:\n",
    "    print(num, \"is not a palindrome number\")\n"
   ]
  },
  {
   "cell_type": "markdown",
   "id": "f79048d4-b209-471d-86e1-201a7af62b4a",
   "metadata": {},
   "source": [
    "##### Q.9> Write a code to print odd numbers from 1 to 100 using list comprehension."
   ]
  },
  {
   "cell_type": "markdown",
   "id": "a92335d9-a120-4760-9c3e-6c802f8d1e4d",
   "metadata": {},
   "source": [
    "#### ANSWER\n"
   ]
  },
  {
   "cell_type": "code",
   "execution_count": 10,
   "id": "5fe41d8f-74d3-4ec6-beb8-fe1d4d38e660",
   "metadata": {},
   "outputs": [
    {
     "name": "stdout",
     "output_type": "stream",
     "text": [
      "[1, 3, 5, 7, 9, 11, 13, 15, 17, 19, 21, 23, 25, 27, 29, 31, 33, 35, 37, 39, 41, 43, 45, 47, 49, 51, 53, 55, 57, 59, 61, 63, 65, 67, 69, 71, 73, 75, 77, 79, 81, 83, 85, 87, 89, 91, 93, 95, 97, 99]\n"
     ]
    }
   ],
   "source": [
    "odd_numbers = [num for num in range(1, 101) if num % 2 != 0]\n",
    "print(odd_numbers)"
   ]
  },
  {
   "cell_type": "code",
   "execution_count": null,
   "id": "4fd242dd-a120-4b33-947f-f58d99b3b57d",
   "metadata": {},
   "outputs": [],
   "source": []
  },
  {
   "cell_type": "code",
   "execution_count": null,
   "id": "d45f96e0-b48d-41e3-951c-3484dd7e1feb",
   "metadata": {},
   "outputs": [],
   "source": []
  },
  {
   "cell_type": "code",
   "execution_count": null,
   "id": "a0114f93-fe2e-4655-89cb-4467dea4b440",
   "metadata": {},
   "outputs": [],
   "source": []
  }
 ],
 "metadata": {
  "kernelspec": {
   "display_name": "Python 3 (ipykernel)",
   "language": "python",
   "name": "python3"
  },
  "language_info": {
   "codemirror_mode": {
    "name": "ipython",
    "version": 3
   },
   "file_extension": ".py",
   "mimetype": "text/x-python",
   "name": "python",
   "nbconvert_exporter": "python",
   "pygments_lexer": "ipython3",
   "version": "3.10.8"
  }
 },
 "nbformat": 4,
 "nbformat_minor": 5
}
